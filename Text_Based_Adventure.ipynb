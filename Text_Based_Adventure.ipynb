{
  "nbformat": 4,
  "nbformat_minor": 0,
  "metadata": {
    "colab": {
      "provenance": [],
      "include_colab_link": true
    },
    "kernelspec": {
      "name": "python3",
      "display_name": "Python 3"
    },
    "language_info": {
      "name": "python"
    }
  },
  "cells": [
    {
      "cell_type": "markdown",
      "metadata": {
        "id": "view-in-github",
        "colab_type": "text"
      },
      "source": [
        "<a href=\"https://colab.research.google.com/github/YSHS-APCSP-2526/text-based-adventure-213286-commits/blob/main/Text_Based_Adventure.ipynb\" target=\"_parent\"><img src=\"https://colab.research.google.com/assets/colab-badge.svg\" alt=\"Open In Colab\"/></a>"
      ]
    },
    {
      "cell_type": "markdown",
      "source": [
        "#Requirements for text based adventure\n",
        "1. You must have at least 2 different \"paths\" that are at least 4 decisions in length\n",
        "2. Include an element of randomness (from the random library)\n",
        "3. Include a list that is core to the text based adventure\n",
        "4. Include a function that is called within your program that includes a while loop, and a parameter that influences a conditional statement in your function.\n",
        "5. Commented Code.\n",
        "6. A [digital flowchart](https://docs.google.com/document/d/1p2k3wL6gzjYWBuWxwEQptmbbOZZNsQrthlC12SNtYgY/edit?usp=sharing) that follows accepted symbols for representing code. You can use google slides or [draw.io](https://www.drawio.com/) for the flowchart."
      ],
      "metadata": {
        "id": "zpSmche7G_jy"
      }
    },
    {
      "cell_type": "code",
      "source": [
        "def intro():\n",
        "  response = input('You approach the garage door, guess the correct garage code')\n",
        "  code = input('input code')\n",
        "  if code == '1297':\n",
        "      print ('you are in the house')\n",
        "  return response"
      ],
      "metadata": {
        "id": "DToswc3clKpf"
      },
      "execution_count": 2,
      "outputs": []
    },
    {
      "cell_type": "code",
      "source": [
        "def choice1(response):\n",
        "  if response == '1297':\n",
        "    print(\"You make it inside the garage\")\n",
        "    return(\"Unlock\")\n",
        "  else:\n",
        "    print('wrong code try again')\n",
        "    return(\"Locked\")"
      ],
      "metadata": {
        "id": "S2X5aNUd72So"
      },
      "execution_count": 9,
      "outputs": []
    },
    {
      "cell_type": "code",
      "source": [
        "if"
      ],
      "metadata": {
        "id": "FnINlHj7KCNF"
      },
      "execution_count": null,
      "outputs": []
    },
    {
      "cell_type": "code",
      "source": [
        "def main():\n",
        "  response = intro()\n",
        "  response =choice1(response)\n",
        "  if response ==\"Unlocked\":\n",
        "    #Call New Function\n",
        "  else:\n",
        "    response ==\"Locked\":\n",
        "\n"
      ],
      "metadata": {
        "id": "LQuG-KfJlMj3"
      },
      "execution_count": 5,
      "outputs": []
    },
    {
      "cell_type": "code",
      "source": [
        "main()"
      ],
      "metadata": {
        "colab": {
          "base_uri": "https://localhost:8080/"
        },
        "id": "Qf8Thgxa6anY",
        "outputId": "d0f1255d-c629-4187-85ab-e7f19aec27d8"
      },
      "execution_count": 8,
      "outputs": [
        {
          "output_type": "stream",
          "name": "stdout",
          "text": [
            "You approach the garage door, guess the correct garage code1222\n",
            "input code1222\n",
            "wrong code try again\n"
          ]
        }
      ]
    }
  ]
}