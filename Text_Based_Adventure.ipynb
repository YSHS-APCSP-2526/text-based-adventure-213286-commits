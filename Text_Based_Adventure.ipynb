{
  "nbformat": 4,
  "nbformat_minor": 0,
  "metadata": {
    "colab": {
      "provenance": [],
      "include_colab_link": true
    },
    "kernelspec": {
      "name": "python3",
      "display_name": "Python 3"
    },
    "language_info": {
      "name": "python"
    }
  },
  "cells": [
    {
      "cell_type": "markdown",
      "metadata": {
        "id": "view-in-github",
        "colab_type": "text"
      },
      "source": [
        "<a href=\"https://colab.research.google.com/github/YSHS-APCSP-2526/text-based-adventure-213286-commits/blob/main/Text_Based_Adventure.ipynb\" target=\"_parent\"><img src=\"https://colab.research.google.com/assets/colab-badge.svg\" alt=\"Open In Colab\"/></a>"
      ]
    },
    {
      "cell_type": "markdown",
      "source": [
        "#Requirements for text based adventure\n",
        "1. You must have at least 2 different \"paths\" that are at least 4 decisions in length\n",
        "2. Include an element of randomness (from the random library)\n",
        "3. Include a list that is core to the text based adventure\n",
        "4. Include a function that is called within your program that includes a while loop, and a parameter that influences a conditional statement in your function.\n",
        "5. Commented Code.\n",
        "6. A [digital flowchart](https://docs.google.com/document/d/1p2k3wL6gzjYWBuWxwEQptmbbOZZNsQrthlC12SNtYgY/edit?usp=sharing) that follows accepted symbols for representing code. You can use google slides or [draw.io](https://www.drawio.com/) for the flowchart."
      ],
      "metadata": {
        "id": "zpSmche7G_jy"
      }
    },
    {
      "cell_type": "code",
      "source": [
        "def intro():\n",
        "  print('You approach the garage door, guess the correct garage code')\n",
        "  while True:\n",
        "    code = input('Enter the garage code')\n",
        "    if code == '1297':\n",
        "      print ('The garage door opens!')\n",
        "      return code\n",
        "    else:\n",
        "      print('Wrong code. Try Again.')"
      ],
      "metadata": {
        "id": "DToswc3clKpf"
      },
      "execution_count": 9,
      "outputs": []
    },
    {
      "cell_type": "code",
      "source": [
        "def choice1(code):\n",
        "  print(': Checking the garage door...')\n",
        "  if code == '1297':\n",
        "    print(\"You make it inside the garage\")\n",
        "    return(\"Unlock\")\n",
        "  else:\n",
        "    print('Wrong code try again')\n",
        "    return(\"Locked\")"
      ],
      "metadata": {
        "id": "S2X5aNUd72So"
      },
      "execution_count": 19,
      "outputs": []
    },
    {
      "cell_type": "code",
      "source": [
        "def inside_Garage():\n",
        "  print('/nStep 3: You are inside the garage. You see a door leading into the house.')\n",
        "  choice = input('Do you want to open the door to the house? (yes/no):')\n",
        "  if choice == 'yes':\n",
        "    print('you open the door and step into the house. Its warm and quiet.')\n",
        "    return 'InsideHouse'\n",
        "  elif choice == 'no':\n",
        "    print('You decide to stay in the garage. Its cold and smells like Butt.')\n",
        "    return 'StayGarage'\n",
        "  else:\n",
        "    print('Please type \"Yes\" or \"No\". ')\n",
        "    return inside_Garage()\n"
      ],
      "metadata": {
        "id": "FnINlHj7KCNF"
      },
      "execution_count": 11,
      "outputs": []
    },
    {
      "cell_type": "code",
      "source": [
        "def main():\n",
        "  print('=== House Adventure Game ===')\n",
        "  code = intro() # Call intro() to get the initial code\n",
        "  result = choice1(code)\n",
        "  if result == 'Unlocked':\n",
        "    next_step = inside_Garage() # Corrected variable assignment\n",
        "    if next_step == 'InsideHouse':\n",
        "      print('You have successfully entered the house! Adventure begins')\n",
        "    else:\n",
        "      print('GAME OVER. Better luck next timne NOOB, should hae gone inside.')\n"
      ],
      "metadata": {
        "id": "FC54wU4wPvtw"
      },
      "execution_count": 21,
      "outputs": []
    },
    {
      "cell_type": "code",
      "source": [],
      "metadata": {
        "id": "U6ghfxwxRz3O"
      },
      "execution_count": null,
      "outputs": []
    },
    {
      "cell_type": "code",
      "source": [
        "main()"
      ],
      "metadata": {
        "colab": {
          "base_uri": "https://localhost:8080/"
        },
        "id": "Qf8Thgxa6anY",
        "outputId": "6c688b06-0a09-4cf8-cc65-c3de23ca077a"
      },
      "execution_count": null,
      "outputs": [
        {
          "output_type": "stream",
          "name": "stdout",
          "text": [
            "=== House Adventure Game ===\n",
            "You approach the garage door, guess the correct garage code\n"
          ]
        }
      ]
    }
  ]
}